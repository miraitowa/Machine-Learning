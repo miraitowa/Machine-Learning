{
 "cells": [
  {
   "cell_type": "code",
   "execution_count": 10,
   "metadata": {},
   "outputs": [
    {
     "name": "stdout",
     "output_type": "stream",
     "text": [
      "动作片\n"
     ]
    }
   ],
   "source": [
    "# -*- coding: UTF-8 -*-\n",
    "import numpy as np\n",
    "import operator\n",
    "import collections\n",
    "\n",
    "\"\"\"\n",
    "函数说明:创建数据集\n",
    "\n",
    "\"\"\"\n",
    "def createDataSet():\n",
    "\t#四组二维特征\n",
    "\tgroup = np.array([[1,101],[5,89],[108,5],[115,8]])\n",
    "\t#四组特征的标签\n",
    "\tlabels = ['爱情片','爱情片','动作片','动作片']\n",
    "\treturn group, labels\n",
    "\n",
    "\"\"\"\n",
    "函数说明:kNN算法,分类器\n",
    "Parameters:\n",
    "\tinX - 用于分类的数据(测试集)\n",
    "\tdataSet - 用于训练的数据(训练集)\n",
    "\tlabes - 分类标签\n",
    "\tk - kNN算法参数,选择距离最小的k个点\n",
    "Returns:\n",
    "\tsortedClassCount[0][0] - 分类结果\n",
    "\"\"\"\n",
    "def classify0(inx, dataset, labels, k):\n",
    "\t# 计算距离\n",
    "\tdist = np.sum((inx - dataset)**2, axis=1)**0.5\n",
    "\t# k个最近的标签\n",
    "\tk_labels = [labels[index] for index in dist.argsort()[0 : k]]\n",
    "\t# 出现次数最多的标签即为最终类别\n",
    "\tlabel = collections.Counter(k_labels).most_common(1)[0][0]\n",
    "\treturn label\n",
    "\n",
    "if __name__ == '__main__':\n",
    "\t#创建数据集\n",
    "\tgroup, labels = createDataSet()\n",
    "\t#测试集\n",
    "\ttest = [101,20]\n",
    "\t#kNN分类\n",
    "\ttest_class = classify0(test, group, labels, 3)\n",
    "\t#打印分类结果\n",
    "\tprint(test_class)"
   ]
  },
  {
   "cell_type": "code",
   "execution_count": 2,
   "metadata": {},
   "outputs": [
    {
     "name": "stdout",
     "output_type": "stream",
     "text": [
      "[[  1 101]\n",
      " [  5  89]\n",
      " [108   5]\n",
      " [115   8]]\n",
      "['爱情片', '爱情片', '动作片', '动作片']\n"
     ]
    }
   ],
   "source": [
    "# -*- coding: UTF-8 -*-\n",
    "import numpy as np\n",
    "\n",
    "\"\"\"\n",
    "函数说明:创建数据集\n",
    "\n",
    "Parameters:\n",
    "    无\n",
    "Returns:\n",
    "    group - 数据集\n",
    "    labels - 分类标签\n",
    "Modify:\n",
    "    2017-07-13\n",
    "\"\"\"\n",
    "def createDataSet():\n",
    "    #四组二维特征\n",
    "    group = np.array([[1,101],[5,89],[108,5],[115,8]])\n",
    "    #四组特征的标签\n",
    "    labels = ['爱情片','爱情片','动作片','动作片']\n",
    "    return group, labels\n",
    "if __name__ == '__main__':\n",
    "    #创建数据集\n",
    "    group, labels = createDataSet()\n",
    "    #打印数据集\n",
    "    print(group)\n",
    "    print(labels)\n"
   ]
  },
  {
   "cell_type": "code",
   "execution_count": 15,
   "metadata": {},
   "outputs": [
    {
     "name": "stdout",
     "output_type": "stream",
     "text": [
      "爱情片\n"
     ]
    }
   ],
   "source": [
    "\"\"\"代码整合\"\"\"\n",
    "\n",
    "# -*- coding: UTF-8 -*-\n",
    "import numpy as np\n",
    "import operator\n",
    "\n",
    "\"\"\"\n",
    "函数说明:创建数据集\n",
    "\n",
    "Returns:\n",
    "    group - 数据集\n",
    "    labels - 分类标签\n",
    "\n",
    "\"\"\"\n",
    "def createDataSet():\n",
    "    #四组二维特征\n",
    "    group = np.array([[1,101],[5,89],[108,5],[115,8]])\n",
    "    #四组特征的标签\n",
    "    labels = ['爱情片','爱情片','动作片','动作片']\n",
    "    return group, labels\n",
    "\n",
    "\"\"\"\n",
    "函数说明:kNN算法,分类器\n",
    "\n",
    "Parameters:\n",
    "    inX - 用于分类的数据(测试集)\n",
    "    dataSet - 用于训练的数据(训练集)\n",
    "    labes - 分类标签\n",
    "    k - kNN算法参数,选择距离最小的k个点\n",
    "Returns:\n",
    "    sortedClassCount[0][0] - 分类结果\n",
    "\n",
    "\"\"\"\n",
    "def classify0(inX, dataSet, labels, k):\n",
    "    #numpy函数shape[0]返回dataSet的行数\n",
    "    dataSetSize = dataSet.shape[0]\n",
    "    #在列向量方向上重复inX共1次(横向)，行向量方向上重复inX共dataSetSize次(纵向)\n",
    "    diffMat = np.tile(inX, (dataSetSize, 1)) - dataSet\n",
    "    #二维特征相减后平方\n",
    "    sqDiffMat = diffMat**2\n",
    "    #sum()所有元素相加，sum(0)列相加，sum(1)行相加\n",
    "    sqDistances = sqDiffMat.sum(axis=1)\n",
    "    #开方，计算出距离\n",
    "    distances = sqDistances**0.5\n",
    "    #返回distances中元素从小到大排序后的索引值\n",
    "    sortedDistIndices = distances.argsort()\n",
    "    #定一个记录类别次数的字典\n",
    "    classCount = {}\n",
    "    for i in range(k):\n",
    "        #取出前k个元素的类别\n",
    "        voteIlabel = labels[sortedDistIndices[i]]\n",
    "        #dict.get(key,default=None),字典的get()方法,返回指定键的值,如果值不在字典中返回默认值。\n",
    "        #计算类别次数\n",
    "        classCount[voteIlabel] = classCount.get(voteIlabel,0) + 1\n",
    "    #python3中用items()替换python2中的iteritems()\n",
    "    #key=operator.itemgetter(1)根据字典的值进行排序\n",
    "    #key=operator.itemgetter(0)根据字典的键进行排序\n",
    "    #reverse降序排序字典\n",
    "    sortedClassCount = sorted(classCount.items(),key=operator.itemgetter(1),reverse=True)\n",
    "    #返回次数最多的类别,即所要分类的类别\n",
    "    return sortedClassCount[0][0]\n",
    "\n",
    "if __name__ == '__main__':\n",
    "    #创建数据集\n",
    "    group, labels = createDataSet()\n",
    "    #测试集\n",
    "    test = [1,50]\n",
    "    #kNN分类\n",
    "    test_class = classify0(test, group, labels, 3)\n",
    "    #打印分类结果\n",
    "    print(test_class)\n"
   ]
  },
  {
   "cell_type": "code",
   "execution_count": null,
   "metadata": {},
   "outputs": [],
   "source": []
  }
 ],
 "metadata": {
  "kernelspec": {
   "display_name": "Python 3",
   "language": "python",
   "name": "python3"
  },
  "language_info": {
   "codemirror_mode": {
    "name": "ipython",
    "version": 3
   },
   "file_extension": ".py",
   "mimetype": "text/x-python",
   "name": "python",
   "nbconvert_exporter": "python",
   "pygments_lexer": "ipython3",
   "version": "3.7.1"
  }
 },
 "nbformat": 4,
 "nbformat_minor": 2
}
